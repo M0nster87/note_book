{
 "cells": [
  {
   "cell_type": "code",
   "execution_count": 1,
   "id": "8b94c172-ccd8-4b58-bd7b-98a820cc518e",
   "metadata": {},
   "outputs": [],
   "source": [
    "from faker import Faker\n",
    "from faker.providers import DynamicProvider #python docs Faker modul...\n",
    "import pandas as pd\n",
    "import random\n",
    "\n",
    "#make sure you have the same random values as vrbdy else\n",
    "Faker.seed()\n",
    "fake = Faker('de_DE')\n",
    "fake.seed_instance()\n",
    "random.seed(42)\n",
    "# own FakerProvider (dont support multiple languages)\n",
    "company_departments_provider = DynamicProvider(\n",
    "    provider_name='company_department',\n",
    "    elements=['IT', 'Buchhaltung', 'Vertrieb', 'Kunden_service', 'Dozent']\n",
    ")\n",
    "fake.add_provider(company_departments_provider)\n",
    "# values for the DataFrame\n",
    "names = [fake.name() for x in range(10)]\n",
    "salary = [random.randint(10_000, 100_000) for x in range(10)]\n",
    "department = [fake.company_department() for x in range(10)]\n",
    "# i like to create dict`s for the df\n",
    "data = {'namen' : names,\n",
    "       'gehalt' : salary,\n",
    "       'abteilung': department}\n",
    "# finally the data on the fly \n",
    "df = pd.DataFrame(data)"
   ]
  },
  {
   "cell_type": "code",
   "execution_count": 2,
   "id": "daba4114-0b10-4484-b739-8947b0113d3e",
   "metadata": {},
   "outputs": [
    {
     "data": {
      "text/html": [
       "<div>\n",
       "<style scoped>\n",
       "    .dataframe tbody tr th:only-of-type {\n",
       "        vertical-align: middle;\n",
       "    }\n",
       "\n",
       "    .dataframe tbody tr th {\n",
       "        vertical-align: top;\n",
       "    }\n",
       "\n",
       "    .dataframe thead th {\n",
       "        text-align: right;\n",
       "    }\n",
       "</style>\n",
       "<table border=\"1\" class=\"dataframe\">\n",
       "  <thead>\n",
       "    <tr style=\"text-align: right;\">\n",
       "      <th></th>\n",
       "      <th>namen</th>\n",
       "      <th>gehalt</th>\n",
       "      <th>abteilung</th>\n",
       "    </tr>\n",
       "  </thead>\n",
       "  <tbody>\n",
       "    <tr>\n",
       "      <th>0</th>\n",
       "      <td>Kevin Schulz</td>\n",
       "      <td>93810</td>\n",
       "      <td>Dozent</td>\n",
       "    </tr>\n",
       "    <tr>\n",
       "      <th>1</th>\n",
       "      <td>Herr Robin Vollbrecht</td>\n",
       "      <td>24592</td>\n",
       "      <td>Buchhaltung</td>\n",
       "    </tr>\n",
       "    <tr>\n",
       "      <th>2</th>\n",
       "      <td>Arnfried Killer</td>\n",
       "      <td>13278</td>\n",
       "      <td>Dozent</td>\n",
       "    </tr>\n",
       "    <tr>\n",
       "      <th>3</th>\n",
       "      <td>Dr. Mattias Tintzmann</td>\n",
       "      <td>46048</td>\n",
       "      <td>IT</td>\n",
       "    </tr>\n",
       "    <tr>\n",
       "      <th>4</th>\n",
       "      <td>Prof. Valeria Birnbaum</td>\n",
       "      <td>42098</td>\n",
       "      <td>IT</td>\n",
       "    </tr>\n",
       "    <tr>\n",
       "      <th>5</th>\n",
       "      <td>Othmar Paffrath MBA.</td>\n",
       "      <td>39256</td>\n",
       "      <td>Vertrieb</td>\n",
       "    </tr>\n",
       "    <tr>\n",
       "      <th>6</th>\n",
       "      <td>Susann Bähr</td>\n",
       "      <td>28289</td>\n",
       "      <td>Dozent</td>\n",
       "    </tr>\n",
       "    <tr>\n",
       "      <th>7</th>\n",
       "      <td>Dr. Heidi Weinhold</td>\n",
       "      <td>23434</td>\n",
       "      <td>Buchhaltung</td>\n",
       "    </tr>\n",
       "    <tr>\n",
       "      <th>8</th>\n",
       "      <td>Wilhelmine Eimer-Ehlert</td>\n",
       "      <td>98696</td>\n",
       "      <td>Buchhaltung</td>\n",
       "    </tr>\n",
       "    <tr>\n",
       "      <th>9</th>\n",
       "      <td>Adalbert Schäfer</td>\n",
       "      <td>81482</td>\n",
       "      <td>Kunden_service</td>\n",
       "    </tr>\n",
       "  </tbody>\n",
       "</table>\n",
       "</div>"
      ],
      "text/plain": [
       "                     namen  gehalt       abteilung\n",
       "0             Kevin Schulz   93810          Dozent\n",
       "1    Herr Robin Vollbrecht   24592     Buchhaltung\n",
       "2          Arnfried Killer   13278          Dozent\n",
       "3    Dr. Mattias Tintzmann   46048              IT\n",
       "4   Prof. Valeria Birnbaum   42098              IT\n",
       "5     Othmar Paffrath MBA.   39256        Vertrieb\n",
       "6              Susann Bähr   28289          Dozent\n",
       "7       Dr. Heidi Weinhold   23434     Buchhaltung\n",
       "8  Wilhelmine Eimer-Ehlert   98696     Buchhaltung\n",
       "9         Adalbert Schäfer   81482  Kunden_service"
      ]
     },
     "execution_count": 2,
     "metadata": {},
     "output_type": "execute_result"
    }
   ],
   "source": [
    "df"
   ]
  },
  {
   "cell_type": "code",
   "execution_count": 3,
   "id": "b780f7d0-c2f8-4aea-aa17-973fe67bb651",
   "metadata": {},
   "outputs": [],
   "source": [
    "# save it to have consistent data (you know there's these people ;)\n",
    "df.to_csv('Employe_list.csv', index=False)"
   ]
  },
  {
   "cell_type": "code",
   "execution_count": 4,
   "id": "d31460d5-6f30-4f2c-8ed6-c1839ff50319",
   "metadata": {},
   "outputs": [
    {
     "data": {
      "text/html": [
       "<div>\n",
       "<style scoped>\n",
       "    .dataframe tbody tr th:only-of-type {\n",
       "        vertical-align: middle;\n",
       "    }\n",
       "\n",
       "    .dataframe tbody tr th {\n",
       "        vertical-align: top;\n",
       "    }\n",
       "\n",
       "    .dataframe thead th {\n",
       "        text-align: right;\n",
       "    }\n",
       "</style>\n",
       "<table border=\"1\" class=\"dataframe\">\n",
       "  <thead>\n",
       "    <tr style=\"text-align: right;\">\n",
       "      <th></th>\n",
       "      <th>namen</th>\n",
       "      <th>gehalt</th>\n",
       "      <th>abteilung</th>\n",
       "    </tr>\n",
       "  </thead>\n",
       "  <tbody>\n",
       "    <tr>\n",
       "      <th>0</th>\n",
       "      <td>Kevin Schulz</td>\n",
       "      <td>93810</td>\n",
       "      <td>Dozent</td>\n",
       "    </tr>\n",
       "    <tr>\n",
       "      <th>1</th>\n",
       "      <td>Herr Robin Vollbrecht</td>\n",
       "      <td>24592</td>\n",
       "      <td>Buchhaltung</td>\n",
       "    </tr>\n",
       "    <tr>\n",
       "      <th>2</th>\n",
       "      <td>Arnfried Killer</td>\n",
       "      <td>13278</td>\n",
       "      <td>Dozent</td>\n",
       "    </tr>\n",
       "    <tr>\n",
       "      <th>3</th>\n",
       "      <td>Dr. Mattias Tintzmann</td>\n",
       "      <td>46048</td>\n",
       "      <td>IT</td>\n",
       "    </tr>\n",
       "    <tr>\n",
       "      <th>4</th>\n",
       "      <td>Prof. Valeria Birnbaum</td>\n",
       "      <td>42098</td>\n",
       "      <td>IT</td>\n",
       "    </tr>\n",
       "    <tr>\n",
       "      <th>5</th>\n",
       "      <td>Othmar Paffrath MBA.</td>\n",
       "      <td>39256</td>\n",
       "      <td>Vertrieb</td>\n",
       "    </tr>\n",
       "    <tr>\n",
       "      <th>6</th>\n",
       "      <td>Susann Bähr</td>\n",
       "      <td>28289</td>\n",
       "      <td>Dozent</td>\n",
       "    </tr>\n",
       "    <tr>\n",
       "      <th>7</th>\n",
       "      <td>Dr. Heidi Weinhold</td>\n",
       "      <td>23434</td>\n",
       "      <td>Buchhaltung</td>\n",
       "    </tr>\n",
       "    <tr>\n",
       "      <th>8</th>\n",
       "      <td>Wilhelmine Eimer-Ehlert</td>\n",
       "      <td>98696</td>\n",
       "      <td>Buchhaltung</td>\n",
       "    </tr>\n",
       "    <tr>\n",
       "      <th>9</th>\n",
       "      <td>Adalbert Schäfer</td>\n",
       "      <td>81482</td>\n",
       "      <td>Kunden_service</td>\n",
       "    </tr>\n",
       "  </tbody>\n",
       "</table>\n",
       "</div>"
      ],
      "text/plain": [
       "                     namen  gehalt       abteilung\n",
       "0             Kevin Schulz   93810          Dozent\n",
       "1    Herr Robin Vollbrecht   24592     Buchhaltung\n",
       "2          Arnfried Killer   13278          Dozent\n",
       "3    Dr. Mattias Tintzmann   46048              IT\n",
       "4   Prof. Valeria Birnbaum   42098              IT\n",
       "5     Othmar Paffrath MBA.   39256        Vertrieb\n",
       "6              Susann Bähr   28289          Dozent\n",
       "7       Dr. Heidi Weinhold   23434     Buchhaltung\n",
       "8  Wilhelmine Eimer-Ehlert   98696     Buchhaltung\n",
       "9         Adalbert Schäfer   81482  Kunden_service"
      ]
     },
     "execution_count": 4,
     "metadata": {},
     "output_type": "execute_result"
    }
   ],
   "source": [
    "df"
   ]
  },
  {
   "cell_type": "code",
   "execution_count": 5,
   "id": "7b9fe84f-0d3c-460e-9e4c-8de13c0b78c3",
   "metadata": {},
   "outputs": [],
   "source": [
    "# load every thing in our pandas DataFrame\n",
    "import pandas as pd\n",
    "df_neu = pd.read_csv('Employe_list.csv')"
   ]
  },
  {
   "cell_type": "code",
   "execution_count": 6,
   "id": "a58b6634-ffb0-4bcd-acdd-2ed6c4c07c63",
   "metadata": {},
   "outputs": [],
   "source": [
    "# show every thing"
   ]
  },
  {
   "cell_type": "code",
   "execution_count": 7,
   "id": "e33e5e5a-2b13-48b9-ad9d-7ad872c08575",
   "metadata": {},
   "outputs": [
    {
     "data": {
      "text/html": [
       "<div>\n",
       "<style scoped>\n",
       "    .dataframe tbody tr th:only-of-type {\n",
       "        vertical-align: middle;\n",
       "    }\n",
       "\n",
       "    .dataframe tbody tr th {\n",
       "        vertical-align: top;\n",
       "    }\n",
       "\n",
       "    .dataframe thead th {\n",
       "        text-align: right;\n",
       "    }\n",
       "</style>\n",
       "<table border=\"1\" class=\"dataframe\">\n",
       "  <thead>\n",
       "    <tr style=\"text-align: right;\">\n",
       "      <th></th>\n",
       "      <th>namen</th>\n",
       "      <th>gehalt</th>\n",
       "      <th>abteilung</th>\n",
       "    </tr>\n",
       "  </thead>\n",
       "  <tbody>\n",
       "    <tr>\n",
       "      <th>0</th>\n",
       "      <td>Kevin Schulz</td>\n",
       "      <td>93810</td>\n",
       "      <td>Dozent</td>\n",
       "    </tr>\n",
       "    <tr>\n",
       "      <th>1</th>\n",
       "      <td>Herr Robin Vollbrecht</td>\n",
       "      <td>24592</td>\n",
       "      <td>Buchhaltung</td>\n",
       "    </tr>\n",
       "    <tr>\n",
       "      <th>2</th>\n",
       "      <td>Arnfried Killer</td>\n",
       "      <td>13278</td>\n",
       "      <td>Dozent</td>\n",
       "    </tr>\n",
       "    <tr>\n",
       "      <th>3</th>\n",
       "      <td>Dr. Mattias Tintzmann</td>\n",
       "      <td>46048</td>\n",
       "      <td>IT</td>\n",
       "    </tr>\n",
       "    <tr>\n",
       "      <th>4</th>\n",
       "      <td>Prof. Valeria Birnbaum</td>\n",
       "      <td>42098</td>\n",
       "      <td>IT</td>\n",
       "    </tr>\n",
       "    <tr>\n",
       "      <th>5</th>\n",
       "      <td>Othmar Paffrath MBA.</td>\n",
       "      <td>39256</td>\n",
       "      <td>Vertrieb</td>\n",
       "    </tr>\n",
       "    <tr>\n",
       "      <th>6</th>\n",
       "      <td>Susann Bähr</td>\n",
       "      <td>28289</td>\n",
       "      <td>Dozent</td>\n",
       "    </tr>\n",
       "    <tr>\n",
       "      <th>7</th>\n",
       "      <td>Dr. Heidi Weinhold</td>\n",
       "      <td>23434</td>\n",
       "      <td>Buchhaltung</td>\n",
       "    </tr>\n",
       "    <tr>\n",
       "      <th>8</th>\n",
       "      <td>Wilhelmine Eimer-Ehlert</td>\n",
       "      <td>98696</td>\n",
       "      <td>Buchhaltung</td>\n",
       "    </tr>\n",
       "    <tr>\n",
       "      <th>9</th>\n",
       "      <td>Adalbert Schäfer</td>\n",
       "      <td>81482</td>\n",
       "      <td>Kunden_service</td>\n",
       "    </tr>\n",
       "  </tbody>\n",
       "</table>\n",
       "</div>"
      ],
      "text/plain": [
       "                     namen  gehalt       abteilung\n",
       "0             Kevin Schulz   93810          Dozent\n",
       "1    Herr Robin Vollbrecht   24592     Buchhaltung\n",
       "2          Arnfried Killer   13278          Dozent\n",
       "3    Dr. Mattias Tintzmann   46048              IT\n",
       "4   Prof. Valeria Birnbaum   42098              IT\n",
       "5     Othmar Paffrath MBA.   39256        Vertrieb\n",
       "6              Susann Bähr   28289          Dozent\n",
       "7       Dr. Heidi Weinhold   23434     Buchhaltung\n",
       "8  Wilhelmine Eimer-Ehlert   98696     Buchhaltung\n",
       "9         Adalbert Schäfer   81482  Kunden_service"
      ]
     },
     "execution_count": 7,
     "metadata": {},
     "output_type": "execute_result"
    }
   ],
   "source": [
    "df_neu"
   ]
  },
  {
   "cell_type": "markdown",
   "id": "d9f5713c-4b70-4864-9bbc-090852b675c2",
   "metadata": {},
   "source": [
    "# <font color='green'>Now the `Basic's` for work with <u>`DataFrames`</u>"
   ]
  },
  {
   "cell_type": "code",
   "execution_count": 8,
   "id": "838f0ff7-830a-4103-a2d6-3b2caf4d059c",
   "metadata": {},
   "outputs": [
    {
     "data": {
      "text/html": [
       "<div>\n",
       "<style scoped>\n",
       "    .dataframe tbody tr th:only-of-type {\n",
       "        vertical-align: middle;\n",
       "    }\n",
       "\n",
       "    .dataframe tbody tr th {\n",
       "        vertical-align: top;\n",
       "    }\n",
       "\n",
       "    .dataframe thead th {\n",
       "        text-align: right;\n",
       "    }\n",
       "</style>\n",
       "<table border=\"1\" class=\"dataframe\">\n",
       "  <thead>\n",
       "    <tr style=\"text-align: right;\">\n",
       "      <th></th>\n",
       "      <th>gehalt</th>\n",
       "    </tr>\n",
       "  </thead>\n",
       "  <tbody>\n",
       "    <tr>\n",
       "      <th>count</th>\n",
       "      <td>10.000000</td>\n",
       "    </tr>\n",
       "    <tr>\n",
       "      <th>mean</th>\n",
       "      <td>49098.300000</td>\n",
       "    </tr>\n",
       "    <tr>\n",
       "      <th>std</th>\n",
       "      <td>30980.795629</td>\n",
       "    </tr>\n",
       "    <tr>\n",
       "      <th>min</th>\n",
       "      <td>13278.000000</td>\n",
       "    </tr>\n",
       "    <tr>\n",
       "      <th>25%</th>\n",
       "      <td>25516.250000</td>\n",
       "    </tr>\n",
       "    <tr>\n",
       "      <th>50%</th>\n",
       "      <td>40677.000000</td>\n",
       "    </tr>\n",
       "    <tr>\n",
       "      <th>75%</th>\n",
       "      <td>72623.500000</td>\n",
       "    </tr>\n",
       "    <tr>\n",
       "      <th>max</th>\n",
       "      <td>98696.000000</td>\n",
       "    </tr>\n",
       "  </tbody>\n",
       "</table>\n",
       "</div>"
      ],
      "text/plain": [
       "             gehalt\n",
       "count     10.000000\n",
       "mean   49098.300000\n",
       "std    30980.795629\n",
       "min    13278.000000\n",
       "25%    25516.250000\n",
       "50%    40677.000000\n",
       "75%    72623.500000\n",
       "max    98696.000000"
      ]
     },
     "execution_count": 8,
     "metadata": {},
     "output_type": "execute_result"
    }
   ],
   "source": [
    "# for example this is a DataFrame of your employee's\n",
    "# you see with this cmd some aggra_function\n",
    "df_neu.describe()"
   ]
  },
  {
   "cell_type": "code",
   "execution_count": 9,
   "id": "6ee9c673-b2d6-4b75-a8a9-602b0f37ee53",
   "metadata": {},
   "outputs": [
    {
     "name": "stdout",
     "output_type": "stream",
     "text": [
      "<class 'pandas.core.frame.DataFrame'>\n",
      "RangeIndex: 10 entries, 0 to 9\n",
      "Data columns (total 3 columns):\n",
      " #   Column     Non-Null Count  Dtype \n",
      "---  ------     --------------  ----- \n",
      " 0   namen      10 non-null     object\n",
      " 1   gehalt     10 non-null     int64 \n",
      " 2   abteilung  10 non-null     object\n",
      "dtypes: int64(1), object(2)\n",
      "memory usage: 372.0+ bytes\n"
     ]
    }
   ],
   "source": [
    "# here you can see if there are NONE values and other things\n",
    "# we want to jnow how is the avg salary every department(abteilung)\n",
    "df_neu.info()"
   ]
  },
  {
   "cell_type": "code",
   "execution_count": 10,
   "id": "669b91c8-d831-410e-915b-f35bf5ca39af",
   "metadata": {},
   "outputs": [],
   "source": [
    "# it's common practice\n",
    "df = df_neu"
   ]
  },
  {
   "cell_type": "markdown",
   "id": "b7cdffeb-7d2b-4165-a111-03cc247409af",
   "metadata": {},
   "source": [
    "### we use `groupby` sorted by income and get `AVG` of every department "
   ]
  },
  {
   "cell_type": "code",
   "execution_count": 11,
   "id": "973dfcea-3332-43f9-bd93-ad76a304ae84",
   "metadata": {},
   "outputs": [
    {
     "data": {
      "text/plain": [
       "abteilung\n",
       "Buchhaltung       48907.333333\n",
       "Dozent            45125.666667\n",
       "IT                44073.000000\n",
       "Kunden_service    81482.000000\n",
       "Vertrieb          39256.000000\n",
       "Name: gehalt, dtype: float64"
      ]
     },
     "execution_count": 11,
     "metadata": {},
     "output_type": "execute_result"
    }
   ],
   "source": [
    "df.groupby('abteilung')['gehalt'].mean()"
   ]
  },
  {
   "cell_type": "code",
   "execution_count": 12,
   "id": "3208a9c9-ae48-4f9c-8e10-7a7a6ba19f8b",
   "metadata": {},
   "outputs": [],
   "source": [
    "# saving for later\n",
    "avg_salary_dep = df.groupby('abteilung')['gehalt'].mean()"
   ]
  },
  {
   "cell_type": "code",
   "execution_count": 13,
   "id": "b3fa879c-7e1d-4488-8705-c9c21921c3ea",
   "metadata": {},
   "outputs": [
    {
     "data": {
      "text/html": [
       "<div>\n",
       "<style scoped>\n",
       "    .dataframe tbody tr th:only-of-type {\n",
       "        vertical-align: middle;\n",
       "    }\n",
       "\n",
       "    .dataframe tbody tr th {\n",
       "        vertical-align: top;\n",
       "    }\n",
       "\n",
       "    .dataframe thead th {\n",
       "        text-align: right;\n",
       "    }\n",
       "</style>\n",
       "<table border=\"1\" class=\"dataframe\">\n",
       "  <thead>\n",
       "    <tr style=\"text-align: right;\">\n",
       "      <th></th>\n",
       "      <th>namen</th>\n",
       "      <th>gehalt</th>\n",
       "      <th>abteilung</th>\n",
       "    </tr>\n",
       "  </thead>\n",
       "  <tbody>\n",
       "    <tr>\n",
       "      <th>0</th>\n",
       "      <td>Kevin Schulz</td>\n",
       "      <td>93810</td>\n",
       "      <td>Dozent</td>\n",
       "    </tr>\n",
       "    <tr>\n",
       "      <th>1</th>\n",
       "      <td>Herr Robin Vollbrecht</td>\n",
       "      <td>24592</td>\n",
       "      <td>Buchhaltung</td>\n",
       "    </tr>\n",
       "    <tr>\n",
       "      <th>2</th>\n",
       "      <td>Arnfried Killer</td>\n",
       "      <td>13278</td>\n",
       "      <td>Dozent</td>\n",
       "    </tr>\n",
       "    <tr>\n",
       "      <th>3</th>\n",
       "      <td>Dr. Mattias Tintzmann</td>\n",
       "      <td>46048</td>\n",
       "      <td>IT</td>\n",
       "    </tr>\n",
       "    <tr>\n",
       "      <th>4</th>\n",
       "      <td>Prof. Valeria Birnbaum</td>\n",
       "      <td>42098</td>\n",
       "      <td>IT</td>\n",
       "    </tr>\n",
       "    <tr>\n",
       "      <th>5</th>\n",
       "      <td>Othmar Paffrath MBA.</td>\n",
       "      <td>39256</td>\n",
       "      <td>Vertrieb</td>\n",
       "    </tr>\n",
       "    <tr>\n",
       "      <th>6</th>\n",
       "      <td>Susann Bähr</td>\n",
       "      <td>28289</td>\n",
       "      <td>Dozent</td>\n",
       "    </tr>\n",
       "    <tr>\n",
       "      <th>7</th>\n",
       "      <td>Dr. Heidi Weinhold</td>\n",
       "      <td>23434</td>\n",
       "      <td>Buchhaltung</td>\n",
       "    </tr>\n",
       "    <tr>\n",
       "      <th>8</th>\n",
       "      <td>Wilhelmine Eimer-Ehlert</td>\n",
       "      <td>98696</td>\n",
       "      <td>Buchhaltung</td>\n",
       "    </tr>\n",
       "    <tr>\n",
       "      <th>9</th>\n",
       "      <td>Adalbert Schäfer</td>\n",
       "      <td>81482</td>\n",
       "      <td>Kunden_service</td>\n",
       "    </tr>\n",
       "  </tbody>\n",
       "</table>\n",
       "</div>"
      ],
      "text/plain": [
       "                     namen  gehalt       abteilung\n",
       "0             Kevin Schulz   93810          Dozent\n",
       "1    Herr Robin Vollbrecht   24592     Buchhaltung\n",
       "2          Arnfried Killer   13278          Dozent\n",
       "3    Dr. Mattias Tintzmann   46048              IT\n",
       "4   Prof. Valeria Birnbaum   42098              IT\n",
       "5     Othmar Paffrath MBA.   39256        Vertrieb\n",
       "6              Susann Bähr   28289          Dozent\n",
       "7       Dr. Heidi Weinhold   23434     Buchhaltung\n",
       "8  Wilhelmine Eimer-Ehlert   98696     Buchhaltung\n",
       "9         Adalbert Schäfer   81482  Kunden_service"
      ]
     },
     "execution_count": 13,
     "metadata": {},
     "output_type": "execute_result"
    }
   ],
   "source": [
    "df"
   ]
  },
  {
   "cell_type": "code",
   "execution_count": 14,
   "id": "699542b7-bae1-4be2-a6f4-f9d7908f6dd0",
   "metadata": {},
   "outputs": [
    {
     "data": {
      "text/plain": [
       "abteilung\n",
       "Buchhaltung       3\n",
       "Dozent            3\n",
       "IT                2\n",
       "Kunden_service    1\n",
       "Vertrieb          1\n",
       "Name: namen, dtype: int64"
      ]
     },
     "execution_count": 14,
     "metadata": {},
     "output_type": "execute_result"
    }
   ],
   "source": [
    "# know we want to know how many employee have each department\n",
    "df.groupby('abteilung')['namen'].count()"
   ]
  },
  {
   "cell_type": "code",
   "execution_count": 15,
   "id": "3a2d6054-3524-4f91-b212-924e20d5fd4e",
   "metadata": {},
   "outputs": [],
   "source": [
    "# in this case we have a look at the department `Dozent`"
   ]
  },
  {
   "cell_type": "code",
   "execution_count": 16,
   "id": "98fdff41-7b82-4718-9aee-0edf807d70ec",
   "metadata": {},
   "outputs": [
    {
     "data": {
      "text/html": [
       "<div>\n",
       "<style scoped>\n",
       "    .dataframe tbody tr th:only-of-type {\n",
       "        vertical-align: middle;\n",
       "    }\n",
       "\n",
       "    .dataframe tbody tr th {\n",
       "        vertical-align: top;\n",
       "    }\n",
       "\n",
       "    .dataframe thead th {\n",
       "        text-align: right;\n",
       "    }\n",
       "</style>\n",
       "<table border=\"1\" class=\"dataframe\">\n",
       "  <thead>\n",
       "    <tr style=\"text-align: right;\">\n",
       "      <th></th>\n",
       "      <th>namen</th>\n",
       "      <th>gehalt</th>\n",
       "      <th>abteilung</th>\n",
       "    </tr>\n",
       "  </thead>\n",
       "  <tbody>\n",
       "    <tr>\n",
       "      <th>0</th>\n",
       "      <td>Kevin Schulz</td>\n",
       "      <td>93810</td>\n",
       "      <td>Dozent</td>\n",
       "    </tr>\n",
       "    <tr>\n",
       "      <th>2</th>\n",
       "      <td>Arnfried Killer</td>\n",
       "      <td>13278</td>\n",
       "      <td>Dozent</td>\n",
       "    </tr>\n",
       "    <tr>\n",
       "      <th>6</th>\n",
       "      <td>Susann Bähr</td>\n",
       "      <td>28289</td>\n",
       "      <td>Dozent</td>\n",
       "    </tr>\n",
       "  </tbody>\n",
       "</table>\n",
       "</div>"
      ],
      "text/plain": [
       "             namen  gehalt abteilung\n",
       "0     Kevin Schulz   93810    Dozent\n",
       "2  Arnfried Killer   13278    Dozent\n",
       "6      Susann Bähr   28289    Dozent"
      ]
     },
     "execution_count": 16,
     "metadata": {},
     "output_type": "execute_result"
    }
   ],
   "source": [
    "df[df['abteilung']== 'Dozent']"
   ]
  },
  {
   "cell_type": "code",
   "execution_count": 17,
   "id": "315ab4cc-7511-4b37-9586-a30b2aa68cda",
   "metadata": {},
   "outputs": [
    {
     "data": {
      "text/html": [
       "<div>\n",
       "<style scoped>\n",
       "    .dataframe tbody tr th:only-of-type {\n",
       "        vertical-align: middle;\n",
       "    }\n",
       "\n",
       "    .dataframe tbody tr th {\n",
       "        vertical-align: top;\n",
       "    }\n",
       "\n",
       "    .dataframe thead th {\n",
       "        text-align: right;\n",
       "    }\n",
       "</style>\n",
       "<table border=\"1\" class=\"dataframe\">\n",
       "  <thead>\n",
       "    <tr style=\"text-align: right;\">\n",
       "      <th></th>\n",
       "      <th>gehalt</th>\n",
       "    </tr>\n",
       "  </thead>\n",
       "  <tbody>\n",
       "    <tr>\n",
       "      <th>count</th>\n",
       "      <td>3.000000</td>\n",
       "    </tr>\n",
       "    <tr>\n",
       "      <th>mean</th>\n",
       "      <td>45125.666667</td>\n",
       "    </tr>\n",
       "    <tr>\n",
       "      <th>std</th>\n",
       "      <td>42824.709740</td>\n",
       "    </tr>\n",
       "    <tr>\n",
       "      <th>min</th>\n",
       "      <td>13278.000000</td>\n",
       "    </tr>\n",
       "    <tr>\n",
       "      <th>25%</th>\n",
       "      <td>20783.500000</td>\n",
       "    </tr>\n",
       "    <tr>\n",
       "      <th>50%</th>\n",
       "      <td>28289.000000</td>\n",
       "    </tr>\n",
       "    <tr>\n",
       "      <th>75%</th>\n",
       "      <td>61049.500000</td>\n",
       "    </tr>\n",
       "    <tr>\n",
       "      <th>max</th>\n",
       "      <td>93810.000000</td>\n",
       "    </tr>\n",
       "  </tbody>\n",
       "</table>\n",
       "</div>"
      ],
      "text/plain": [
       "             gehalt\n",
       "count      3.000000\n",
       "mean   45125.666667\n",
       "std    42824.709740\n",
       "min    13278.000000\n",
       "25%    20783.500000\n",
       "50%    28289.000000\n",
       "75%    61049.500000\n",
       "max    93810.000000"
      ]
     },
     "execution_count": 17,
     "metadata": {},
     "output_type": "execute_result"
    }
   ],
   "source": [
    "df[df['abteilung']== 'Dozent'].describe()#work's as well"
   ]
  },
  {
   "cell_type": "code",
   "execution_count": 18,
   "id": "aac58b27-4020-49aa-b54b-31c2131f681d",
   "metadata": {},
   "outputs": [],
   "source": [
    "# know we get the avg salary and check it"
   ]
  },
  {
   "cell_type": "code",
   "execution_count": 19,
   "id": "7cd84b51-1d29-4f4f-94ff-389f074392d9",
   "metadata": {},
   "outputs": [
    {
     "data": {
      "text/plain": [
       "np.float64(45125.666666666664)"
      ]
     },
     "execution_count": 19,
     "metadata": {},
     "output_type": "execute_result"
    }
   ],
   "source": [
    "df[df['abteilung']== 'Dozent']['gehalt'].mean()"
   ]
  },
  {
   "cell_type": "code",
   "execution_count": 20,
   "id": "444943f2-afba-467e-b3b7-61ded659becd",
   "metadata": {},
   "outputs": [],
   "source": [
    "# we see at 2.nd place the `mean` and it's the same"
   ]
  },
  {
   "cell_type": "code",
   "execution_count": 21,
   "id": "4e096951-4df4-41de-8bc9-362ba28fb4f5",
   "metadata": {},
   "outputs": [
    {
     "data": {
      "text/plain": [
       "sum     135377.000000\n",
       "min      13278.000000\n",
       "max      93810.000000\n",
       "mean     45125.666667\n",
       "std      42824.709740\n",
       "Name: gehalt, dtype: float64"
      ]
     },
     "execution_count": 21,
     "metadata": {},
     "output_type": "execute_result"
    }
   ],
   "source": [
    "#muötiple aggra functions at once passible\n",
    "df[df['abteilung'] == 'Dozent']['gehalt'].agg(['sum', 'min', 'max', 'mean', 'std'])"
   ]
  },
  {
   "cell_type": "code",
   "execution_count": 22,
   "id": "3f0088df-eb06-4289-8900-b506af1afede",
   "metadata": {},
   "outputs": [
    {
     "name": "stdout",
     "output_type": "stream",
     "text": [
      "Variable                       Type               Data/Info\n",
      "-----------------------------------------------------------\n",
      "DynamicProvider                type               <class 'faker.providers.DynamicProvider'>\n",
      "Faker                          type               <class 'faker.proxy.Faker'>\n",
      "avg_salary_dep                 Series             abteilung\\nBuchhaltung   <...>e: gehalt, dtype: float64\n",
      "company_departments_provider   DynamicProvider    <faker.providers.DynamicP<...>ct at 0x000002036EE10920>\n",
      "data                           dict               n=3\n",
      "department                     list               n=10\n",
      "df                             DataFrame                               name<...>r   81482  Kunden_service\n",
      "df_neu                         DataFrame                               name<...>r   81482  Kunden_service\n",
      "fake                           Faker              <faker.proxy.Faker object at 0x000002036ECA2AB0>\n",
      "names                          list               n=10\n",
      "pd                             module             <module 'pandas' from 'c:<...>es\\\\pandas\\\\__init__.py'>\n",
      "random                         module             <module 'random' from 'c:<...>thon312\\\\Lib\\\\random.py'>\n",
      "salary                         list               n=10\n"
     ]
    }
   ],
   "source": [
    "whos"
   ]
  },
  {
   "cell_type": "code",
   "execution_count": 23,
   "id": "16ebd6c4-24d9-450b-af41-98e562056472",
   "metadata": {},
   "outputs": [],
   "source": [
    "# again safe for later\n",
    "descr_dep_DZNT = df[df['abteilung']== 'Dozent']['gehalt'].agg(['sum', 'min', 'max', 'mean', 'std'])"
   ]
  },
  {
   "cell_type": "code",
   "execution_count": 24,
   "id": "c15dbb83-d7cc-4a15-bd85-d8e23a3dd6f8",
   "metadata": {},
   "outputs": [
    {
     "name": "stdout",
     "output_type": "stream",
     "text": [
      "\u001b[31;4m1.st insight of the AVG\n",
      "of every department\u001b[32m\n",
      " abteilung\n",
      "Buchhaltung       48907.333333\n",
      "Dozent            45125.666667\n",
      "IT                44073.000000\n",
      "Kunden_service    81482.000000\n",
      "Vertrieb          39256.000000\n",
      "Name: gehalt, dtype: float64\n"
     ]
    }
   ],
   "source": [
    "print('\\033[31;4m1.st insight of the AVG\\nof every department\\033[32m\\n', avg_salary_dep)"
   ]
  },
  {
   "cell_type": "code",
   "execution_count": 25,
   "id": "5deef5d4-1c24-4350-bd45-0645e5792a52",
   "metadata": {},
   "outputs": [
    {
     "name": "stdout",
     "output_type": "stream",
     "text": [
      "\u001b[34mLast but not least\n",
      "The discribtion of the \"Dozenten\"\n",
      "sum     135377.000000\n",
      "min      13278.000000\n",
      "max      93810.000000\n",
      "mean     45125.666667\n",
      "std      42824.709740\n",
      "Name: gehalt, dtype: float64\n"
     ]
    }
   ],
   "source": [
    "print(f'\\033[34mLast but not least\\nThe discribtion of the \"Dozenten\"\\n{descr_dep_DZNT}')"
   ]
  },
  {
   "cell_type": "code",
   "execution_count": null,
   "id": "001ce2e6-db53-42b3-b6e0-8492a82fd105",
   "metadata": {},
   "outputs": [],
   "source": []
  }
 ],
 "metadata": {
  "kernelspec": {
   "display_name": "Python 3",
   "language": "python",
   "name": "python3"
  },
  "language_info": {
   "codemirror_mode": {
    "name": "ipython",
    "version": 3
   },
   "file_extension": ".py",
   "mimetype": "text/x-python",
   "name": "python",
   "nbconvert_exporter": "python",
   "pygments_lexer": "ipython3",
   "version": "3.12.3"
  }
 },
 "nbformat": 4,
 "nbformat_minor": 5
}
