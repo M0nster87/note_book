{
 "cells": [
  {
   "cell_type": "markdown",
   "id": "1bbbcd0d-8dd3-4252-9ca2-2f5fff2c09d9",
   "metadata": {},
   "source": [
    "## <font color='navy'>`Surface`<u> Calculator for a </u>`Square`</font>\n",
    "for education purpose,\n",
    "\n",
    "an `explore` of `Python's World`"
   ]
  },
  {
   "cell_type": "code",
   "execution_count": 23,
   "id": "70803ce0-f910-48f8-8d34-68254d2674c6",
   "metadata": {},
   "outputs": [],
   "source": [
    "#The Process with |Hard Coded Values|\n",
    "a = 10\n",
    "b = 42\n",
    "c = a * b"
   ]
  },
  {
   "cell_type": "code",
   "execution_count": 10,
   "id": "d2329f0e-6317-4ff7-87b0-bd15493be812",
   "metadata": {},
   "outputs": [
    {
     "data": {
      "text/plain": [
       "420"
      ]
     },
     "execution_count": 10,
     "metadata": {},
     "output_type": "execute_result"
    }
   ],
   "source": [
    "c"
   ]
  },
  {
   "cell_type": "code",
   "execution_count": 16,
   "id": "da7aef51-3231-4a09-8034-a7be2cf2f276",
   "metadata": {},
   "outputs": [
    {
     "name": "stdin",
     "output_type": "stream",
     "text": [
      "pls insert lenght site a 28\n",
      "pls insert lenght site b 42\n"
     ]
    },
    {
     "name": "stdout",
     "output_type": "stream",
     "text": [
      "The Surface Area is : \u001b[34m1176\u001b[0m \n"
     ]
    }
   ],
   "source": [
    "# The Process with |User Input|\n",
    "site_a = int(input('pls insert lenght site a'))\n",
    "site_b = int(input('pls insert lenght site b'))\n",
    "surf_area = site_a * site_b\n",
    "print(f'The Surface Area is : \\033[34m{surf_area}\\033[0m ')"
   ]
  },
  {
   "cell_type": "code",
   "execution_count": 17,
   "id": "5ff60417-4678-4d8f-b22d-431f5a03dd71",
   "metadata": {},
   "outputs": [],
   "source": [
    "# The Process as |Function|\n",
    "def surface_calculator():\n",
    "    \"\"\"Calculate's Surface of a Square\"\"\"\n",
    "    site_a = int(input('pls insert lenght site a'))\n",
    "    site_b = int(input('pls insert lenght site b'))\n",
    "    surf_area = site_a * site_b\n",
    "    print(f'The Surface Area is : \\033[33m{surf_area}\\033[0m')\n",
    "    return surf_area"
   ]
  },
  {
   "cell_type": "code",
   "execution_count": 18,
   "id": "d10cc3ba-d600-44cd-84d9-50bdd343af7c",
   "metadata": {},
   "outputs": [
    {
     "name": "stdin",
     "output_type": "stream",
     "text": [
      "pls insert lenght site a 10\n",
      "pls insert lenght site b 28\n"
     ]
    },
    {
     "name": "stdout",
     "output_type": "stream",
     "text": [
      "The Surface Area is : \u001b[33m280\u001b[0m\n"
     ]
    },
    {
     "data": {
      "text/plain": [
       "280"
      ]
     },
     "execution_count": 18,
     "metadata": {},
     "output_type": "execute_result"
    }
   ],
   "source": [
    "surface_calculator()"
   ]
  },
  {
   "cell_type": "code",
   "execution_count": 21,
   "id": "a2d0c6a2-c62f-436a-8ffe-0055307407a1",
   "metadata": {},
   "outputs": [],
   "source": [
    "# The Process with |EvA| principle and |catch error extension|\n",
    "def start_sf_clc():\n",
    "    \"\"\"INPUT |Surface_area|Calculator|\"\"\"\n",
    "    while True:\n",
    "        print('Welcome to the Surface Calculator')\n",
    "        site_a = input('pls insert lenght site a')\n",
    "        site_b = input('pls insert lenght site b')\n",
    "        try:\n",
    "            site_a = float(site_a)\n",
    "            site_b = float(site_b)\n",
    "            break\n",
    "        except ValueError as e:\n",
    "            print(f'\\033[31;4m{e}\\033[0m')\n",
    "            continue\n",
    "    return processing_sf_clc(site_a, site_b)\n",
    "    \n",
    "def processing_sf_clc(site_a, site_b):\n",
    "    \"\"\"PROCESSING |Surface_area|Calculator|\"\"\"\n",
    "    surface_area = site_a * site_b\n",
    "    return end_sf_clc(site_a, site_b, surface_area)\n",
    "\n",
    "def end_sf_clc(site_a, site_b, surface_area):\n",
    "    \"\"\"OUTPUT |Surface_area|Calculator|\"\"\"\n",
    "    print(f\"\\033[32mThe Input of site A was: {site_a}\\nThe Input of site B was: {site_b}\\nSurface Area is |{surface_area}|\")"
   ]
  },
  {
   "cell_type": "code",
   "execution_count": 22,
   "id": "07e1f81e-a9f9-4ab9-986b-ea7b0b300354",
   "metadata": {},
   "outputs": [
    {
     "name": "stdout",
     "output_type": "stream",
     "text": [
      "Welcome to the Surface Calculator\n"
     ]
    },
    {
     "name": "stdin",
     "output_type": "stream",
     "text": [
      "pls insert lenght site a hello\n",
      "pls insert lenght site b 42\n"
     ]
    },
    {
     "name": "stdout",
     "output_type": "stream",
     "text": [
      "\u001b[31;4mcould not convert string to float: 'hello'\u001b[0m\n",
      "Welcome to the Surface Calculator\n"
     ]
    },
    {
     "name": "stdin",
     "output_type": "stream",
     "text": [
      "pls insert lenght site a 10.28\n",
      "pls insert lenght site b 42\n"
     ]
    },
    {
     "name": "stdout",
     "output_type": "stream",
     "text": [
      "\u001b[32mThe Input of site A was: 10.28\n",
      "The Input of site B was: 42.0\n",
      "Surface Area is |431.76|\n"
     ]
    }
   ],
   "source": [
    "start_sf_clc()"
   ]
  },
  {
   "cell_type": "code",
   "execution_count": 3,
   "id": "4d49e5af-f603-4e06-8f41-d588699d1117",
   "metadata": {},
   "outputs": [],
   "source": [
    "# The Process as |Class Objekt|  \n",
    "class SurfaceCalculator:\n",
    "    \"\"\"Surface of Square as Objekt\"\"\"\n",
    "    def __init__(self):\n",
    "        self.start_srf_clc()\n",
    "\n",
    "    def __str__(self):\n",
    "        \"\"\"|Str| Output for User\"\"\"\n",
    "        return(f\"Surface Objekt: |'site_a'={self.site_a}|\\n\\t\\t|'site_b'={self.site_b}|\\n\\t\\t'surface_area'={round(self.surface_area)}\")\n",
    "        \n",
    "    def __repr__(self):\n",
    "        \"\"\"|Bash| Output for Developer\"\"\"\n",
    "        return(f\"SurfaceObjekt('site_a'={self.site_a}), ('site_b'={self.site_b}), ('surface_area'={self.surface_area})\")\n",
    "    \n",
    "    def start_srf_clc(self):\n",
    "        \"\"\"INPUT and Valid_check |Surface_area|Calculator|\"\"\"\n",
    "        while True:\n",
    "            print('Welcome to the Surface Calculator for a Square\\n')\n",
    "            site_a = input('pls insert lenght site a\\n')\n",
    "            site_b = input('pls insert lenght site b\\n')\n",
    "            try:\n",
    "                site_a = float(site_a)\n",
    "                site_b = float(site_b)\n",
    "                self.site_a = site_a\n",
    "                self.site_b = site_b\n",
    "                break\n",
    "            except ValueError as e:\n",
    "                print(f'\\033[31;4m{e}\\033[0m')\n",
    "                continue\n",
    "        self.processing_sf_clc()\n",
    "        \n",
    "    def processing_sf_clc(self):\n",
    "        \"\"\"PROCESSING |Surface_area|Calculator|\"\"\"\n",
    "        self.surface_area = self.site_a * self.site_b\n",
    "        self.end_sf_clc()\n",
    "    \n",
    "    def end_sf_clc(self):\n",
    "        \"\"\"OUTPUT |Surface_area|Calculator|\"\"\"\n",
    "        print(f\"\\033[32mThe Input of site A was: {self.site_a}\\nThe Input of site B was: {self.site_b}\\nSurface Area is |{self.surface_area:.4f}|\")"
   ]
  },
  {
   "cell_type": "code",
   "execution_count": 7,
   "id": "cdf894cd-e2b1-48b0-8051-5051c1a7efdb",
   "metadata": {},
   "outputs": [
    {
     "name": "stdout",
     "output_type": "stream",
     "text": [
      "Welcome to the Surface Calculator for a Square\n",
      "\n"
     ]
    },
    {
     "name": "stdin",
     "output_type": "stream",
     "text": [
      "pls insert lenght site a\n",
      " 223.2323\n",
      "pls insert lenght site b\n",
      " 42.42\n"
     ]
    },
    {
     "name": "stdout",
     "output_type": "stream",
     "text": [
      "\u001b[32mThe Input of site A was: 223.2323\n",
      "The Input of site B was: 42.42\n",
      "Surface Area is |9469.5142|\n"
     ]
    }
   ],
   "source": [
    "quadre = SurfaceCalculator()"
   ]
  },
  {
   "cell_type": "code",
   "execution_count": 10,
   "id": "f578207f-101c-4fff-8bd9-7a13253d448b",
   "metadata": {},
   "outputs": [
    {
     "data": {
      "text/plain": [
       "397719.59497200005"
      ]
     },
     "execution_count": 10,
     "metadata": {},
     "output_type": "execute_result"
    }
   ],
   "source": [
    "quadre.surface_area * 42"
   ]
  },
  {
   "cell_type": "code",
   "execution_count": 17,
   "id": "684bad2a-b114-4ae8-9081-eef6373e6929",
   "metadata": {},
   "outputs": [
    {
     "data": {
      "text/plain": [
       "{'site_a': 223.2323, 'site_b': 42.42, 'surface_area': 397719.59497200005}"
      ]
     },
     "execution_count": 17,
     "metadata": {},
     "output_type": "execute_result"
    }
   ],
   "source": [
    "quadre.__dict__"
   ]
  },
  {
   "cell_type": "code",
   "execution_count": 18,
   "id": "fa8d6386-80d5-4c1d-b4c3-9316bf71c1f2",
   "metadata": {},
   "outputs": [],
   "source": [
    "quadre.__dict__['surface_area'] *= 42"
   ]
  },
  {
   "cell_type": "code",
   "execution_count": 19,
   "id": "94401294-d028-4129-a0d9-df7778d34d64",
   "metadata": {},
   "outputs": [
    {
     "data": {
      "text/plain": [
       "{'site_a': 223.2323, 'site_b': 42.42, 'surface_area': 16704222.988824002}"
      ]
     },
     "execution_count": 19,
     "metadata": {},
     "output_type": "execute_result"
    }
   ],
   "source": [
    "quadre.__dict__"
   ]
  },
  {
   "cell_type": "code",
   "execution_count": 20,
   "id": "4c0e4679-90b5-4b3f-84f2-a074549a1616",
   "metadata": {},
   "outputs": [
    {
     "data": {
      "text/plain": [
       "SurfaceObjekt('site_a'=223.2323), ('site_b'=42.42), ('surface_area'=16704222.988824002)"
      ]
     },
     "execution_count": 20,
     "metadata": {},
     "output_type": "execute_result"
    }
   ],
   "source": [
    "quadre"
   ]
  },
  {
   "cell_type": "code",
   "execution_count": 21,
   "id": "c8a07b17-db56-4ec8-9650-fe31992ac80d",
   "metadata": {},
   "outputs": [
    {
     "name": "stdout",
     "output_type": "stream",
     "text": [
      "Surface Objekt: |'site_a'=223.2323|\n",
      "\t\t|'site_b'=42.42|\n",
      "\t\t'surface_area'=16704223\n"
     ]
    }
   ],
   "source": [
    "print(quadre)"
   ]
  },
  {
   "cell_type": "code",
   "execution_count": null,
   "id": "ea234e6f-c24c-4697-8db8-93bc24cf9a7e",
   "metadata": {},
   "outputs": [],
   "source": []
  }
 ],
 "metadata": {
  "kernelspec": {
   "display_name": "Python 3 (ipykernel)",
   "language": "python",
   "name": "python3"
  },
  "language_info": {
   "codemirror_mode": {
    "name": "ipython",
    "version": 3
   },
   "file_extension": ".py",
   "mimetype": "text/x-python",
   "name": "python",
   "nbconvert_exporter": "python",
   "pygments_lexer": "ipython3",
   "version": "3.12.3"
  }
 },
 "nbformat": 4,
 "nbformat_minor": 5
}
